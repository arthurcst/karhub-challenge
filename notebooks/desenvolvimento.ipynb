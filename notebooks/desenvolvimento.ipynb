{
 "cells": [
  {
   "cell_type": "code",
   "execution_count": 2,
   "metadata": {},
   "outputs": [],
   "source": [
    "from google.oauth2.service_account import Credentials\n",
    "from airflow.operators.python import PythonOperator\n",
    "from google.cloud.storage.client import Client as StorageClient\n",
    "from google.cloud.bigquery import Client as BqClient\n",
    "from airflow.decorators import task, dag\n",
    "from datetime import timedelta\n",
    "from io import BytesIO\n",
    "\n",
    "import pandas as pd\n",
    "import datetime\n",
    "import pendulum\n",
    "import airflow\n",
    "import logging\n",
    "import os"
   ]
  },
  {
   "cell_type": "code",
   "execution_count": 3,
   "metadata": {},
   "outputs": [],
   "source": [
    "LOG_FORMAT = \"%(asctime)s [%(levelname)s]: %(threadName)s - %(message)s\"\n",
    "logging.basicConfig(format=LOG_FORMAT)\n",
    "logger = logging.getLogger(__name__)\n",
    "logger.setLevel(\"INFO\")\n",
    "\n",
    "# Constantes\n",
    "\n",
    "CREDENTIALS_PATH = \"/home/costa/Documentos/KarHub/karhub-challenge/airflow/credentials/karhub-key.json\"\n",
    "os.environ[\"GOOGLE_APPLICATION_CREDENTIALS\"] = CREDENTIALS_PATH\n",
    "\n",
    "DAG_ID = \"processing_dag\"\n",
    "DAG_OWNER_NAME = \"Data Engineering\"\n",
    "SCHEDULE_INTERVAL = None  # Dag com agendamento MANUAL\n",
    "BUCKET = \"etl-karhub-dados-sp\"\n",
    "START_DATE = pendulum.today('UTC').add(days=-1)\n",
    "PROJECT = \"karhub-434807\""
   ]
  },
  {
   "cell_type": "code",
   "execution_count": 4,
   "metadata": {},
   "outputs": [],
   "source": [
    "\n",
    "def csv_to_storage(\n",
    "    local_file_path: str, gcs_file_path: str, bucket_name: str = \"etl-karhub-dados-sp\"\n",
    "):\n",
    "    client = StorageClient(project=PROJECT)\n",
    "    try:\n",
    "        bucket = client.bucket(bucket_name)\n",
    "        blob = bucket.blob(gcs_file_path)\n",
    "        blob.upload_from_filename(local_file_path)\n",
    "        logger.info(\"Upload do arquivo %s foi realizado\", local_file_path)\n",
    "    except Exception as e:\n",
    "        logger.error(\"Erro encontrado: %s\", e)"
   ]
  },
  {
   "cell_type": "code",
   "execution_count": 5,
   "metadata": {},
   "outputs": [],
   "source": [
    "def storage_to_raw(\n",
    "    gcs_file_path: str,\n",
    "    dataset_name: str,\n",
    "    table_name: str,\n",
    "    bucket_name: str = \"etl-karhub-dados-sp\",\n",
    "):\n",
    "    client = StorageClient(project=PROJECT)\n",
    "    bucket = client.bucket(bucket_name)\n",
    "    blob = bucket.blob(gcs_file_path)"
   ]
  },
  {
   "cell_type": "code",
   "execution_count": 6,
   "metadata": {},
   "outputs": [],
   "source": [
    "client = StorageClient(project=PROJECT)\n",
    "bucket = client.bucket(\"etl-karhub-dados-sp\")\n",
    "blob_receitas = bucket.blob(\"receitas/gdvReceitas.csv\")\n",
    "blob_despesas = bucket.blob(\"despesas/gdvDespesas.csv\")"
   ]
  },
  {
   "cell_type": "code",
   "execution_count": 12,
   "metadata": {},
   "outputs": [],
   "source": [
    "content = blob_despesas.download_as_bytes()"
   ]
  },
  {
   "cell_type": "code",
   "execution_count": 13,
   "metadata": {},
   "outputs": [],
   "source": [
    "pd.set_option('display.max_colwidth', 255)\n",
    "pd.set_option('display.max_rows', 9999)\n",
    "\n",
    "data = BytesIO(content)\n",
    "df = pd.read_csv(data, encoding=\"latin_1\")"
   ]
  },
  {
   "cell_type": "code",
   "execution_count": 14,
   "metadata": {},
   "outputs": [
    {
     "data": {
      "text/html": [
       "<div>\n",
       "<style scoped>\n",
       "    .dataframe tbody tr th:only-of-type {\n",
       "        vertical-align: middle;\n",
       "    }\n",
       "\n",
       "    .dataframe tbody tr th {\n",
       "        vertical-align: top;\n",
       "    }\n",
       "\n",
       "    .dataframe thead th {\n",
       "        text-align: right;\n",
       "    }\n",
       "</style>\n",
       "<table border=\"1\" class=\"dataframe\">\n",
       "  <thead>\n",
       "    <tr style=\"text-align: right;\">\n",
       "      <th></th>\n",
       "      <th>Fonte de Recursos</th>\n",
       "      <th>Despesa</th>\n",
       "      <th>Liquidado</th>\n",
       "      <th>Unnamed: 3</th>\n",
       "    </tr>\n",
       "  </thead>\n",
       "  <tbody>\n",
       "    <tr>\n",
       "      <th>0</th>\n",
       "      <td>001 - TESOURO-DOT.INICIAL E CRED.SUPLEMENTAR</td>\n",
       "      <td>31900119 - ATRASADOS-OUTROS PODERES/MINIST.PUBLICO</td>\n",
       "      <td>79.760.504,67</td>\n",
       "      <td>NaN</td>\n",
       "    </tr>\n",
       "    <tr>\n",
       "      <th>1</th>\n",
       "      <td>001 - TESOURO-DOT.INICIAL E CRED.SUPLEMENTAR</td>\n",
       "      <td>31900124 - COMPLEMENTACAO DE APOSENTADORIA</td>\n",
       "      <td>1.850.834.374,26</td>\n",
       "      <td>NaN</td>\n",
       "    </tr>\n",
       "    <tr>\n",
       "      <th>2</th>\n",
       "      <td>001 - TESOURO-DOT.INICIAL E CRED.SUPLEMENTAR</td>\n",
       "      <td>31900125 - COMPLEMENTACAO DE APOSENTADORIA - 13ºSALARIO</td>\n",
       "      <td>124.536.202,87</td>\n",
       "      <td>NaN</td>\n",
       "    </tr>\n",
       "    <tr>\n",
       "      <th>3</th>\n",
       "      <td>001 - TESOURO-DOT.INICIAL E CRED.SUPLEMENTAR</td>\n",
       "      <td>31900325 - COMPLEMENTACAO DE PENSAO</td>\n",
       "      <td>10.948.297,00</td>\n",
       "      <td>NaN</td>\n",
       "    </tr>\n",
       "    <tr>\n",
       "      <th>4</th>\n",
       "      <td>001 - TESOURO-DOT.INICIAL E CRED.SUPLEMENTAR</td>\n",
       "      <td>31900326 - COMPLEMENTACAO DE PENSAO - 13º SALARIO</td>\n",
       "      <td>521.632,30</td>\n",
       "      <td>NaN</td>\n",
       "    </tr>\n",
       "  </tbody>\n",
       "</table>\n",
       "</div>"
      ],
      "text/plain": [
       "                              Fonte de Recursos  \\\n",
       "0  001 - TESOURO-DOT.INICIAL E CRED.SUPLEMENTAR   \n",
       "1  001 - TESOURO-DOT.INICIAL E CRED.SUPLEMENTAR   \n",
       "2  001 - TESOURO-DOT.INICIAL E CRED.SUPLEMENTAR   \n",
       "3  001 - TESOURO-DOT.INICIAL E CRED.SUPLEMENTAR   \n",
       "4  001 - TESOURO-DOT.INICIAL E CRED.SUPLEMENTAR   \n",
       "\n",
       "                                                   Despesa  \\\n",
       "0       31900119 - ATRASADOS-OUTROS PODERES/MINIST.PUBLICO   \n",
       "1               31900124 - COMPLEMENTACAO DE APOSENTADORIA   \n",
       "2  31900125 - COMPLEMENTACAO DE APOSENTADORIA - 13ºSALARIO   \n",
       "3                      31900325 - COMPLEMENTACAO DE PENSAO   \n",
       "4        31900326 - COMPLEMENTACAO DE PENSAO - 13º SALARIO   \n",
       "\n",
       "                 Liquidado  Unnamed: 3  \n",
       "0            79.760.504,67         NaN  \n",
       "1         1.850.834.374,26         NaN  \n",
       "2           124.536.202,87         NaN  \n",
       "3            10.948.297,00         NaN  \n",
       "4               521.632,30         NaN  "
      ]
     },
     "execution_count": 14,
     "metadata": {},
     "output_type": "execute_result"
    }
   ],
   "source": [
    "df.head()"
   ]
  },
  {
   "cell_type": "markdown",
   "metadata": {},
   "source": [
    "## Problemas\n",
    "\n",
    "Ao ler esse dataframe, foi criada uma coluna chamada \"Unnamed: 3\", proveniente da coluna vazia lá no arquivo `.csv`. E também, a última linha é a linha de total, o que pode ser ruim para o autoschema do BigQuery, que é o que utilizaremos para esse projeto.\n",
    "\n",
    "Para evitar problemas futuros, vamos remover essa coluna e também essa linha.\n",
    "\n",
    "Aproveitando que já estamos alterando o arquivo base, vamos adicionar a coluna `dt_insert`."
   ]
  },
  {
   "cell_type": "code",
   "execution_count": 15,
   "metadata": {},
   "outputs": [],
   "source": [
    "df = df.drop(columns=[\"Unnamed: 3\"]).drop(df.index[-1])\n",
    "df['dt_insert'] = pendulum.today('utc').to_iso8601_string()"
   ]
  },
  {
   "cell_type": "code",
   "execution_count": 16,
   "metadata": {},
   "outputs": [
    {
     "data": {
      "text/html": [
       "<div>\n",
       "<style scoped>\n",
       "    .dataframe tbody tr th:only-of-type {\n",
       "        vertical-align: middle;\n",
       "    }\n",
       "\n",
       "    .dataframe tbody tr th {\n",
       "        vertical-align: top;\n",
       "    }\n",
       "\n",
       "    .dataframe thead th {\n",
       "        text-align: right;\n",
       "    }\n",
       "</style>\n",
       "<table border=\"1\" class=\"dataframe\">\n",
       "  <thead>\n",
       "    <tr style=\"text-align: right;\">\n",
       "      <th></th>\n",
       "      <th>Fonte de Recursos</th>\n",
       "      <th>Despesa</th>\n",
       "      <th>Liquidado</th>\n",
       "      <th>dt_insert</th>\n",
       "    </tr>\n",
       "  </thead>\n",
       "  <tbody>\n",
       "    <tr>\n",
       "      <th>0</th>\n",
       "      <td>001 - TESOURO-DOT.INICIAL E CRED.SUPLEMENTAR</td>\n",
       "      <td>31900119 - ATRASADOS-OUTROS PODERES/MINIST.PUBLICO</td>\n",
       "      <td>79.760.504,67</td>\n",
       "      <td>2024-09-07T00:00:00Z</td>\n",
       "    </tr>\n",
       "    <tr>\n",
       "      <th>1</th>\n",
       "      <td>001 - TESOURO-DOT.INICIAL E CRED.SUPLEMENTAR</td>\n",
       "      <td>31900124 - COMPLEMENTACAO DE APOSENTADORIA</td>\n",
       "      <td>1.850.834.374,26</td>\n",
       "      <td>2024-09-07T00:00:00Z</td>\n",
       "    </tr>\n",
       "    <tr>\n",
       "      <th>2</th>\n",
       "      <td>001 - TESOURO-DOT.INICIAL E CRED.SUPLEMENTAR</td>\n",
       "      <td>31900125 - COMPLEMENTACAO DE APOSENTADORIA - 13ºSALARIO</td>\n",
       "      <td>124.536.202,87</td>\n",
       "      <td>2024-09-07T00:00:00Z</td>\n",
       "    </tr>\n",
       "    <tr>\n",
       "      <th>3</th>\n",
       "      <td>001 - TESOURO-DOT.INICIAL E CRED.SUPLEMENTAR</td>\n",
       "      <td>31900325 - COMPLEMENTACAO DE PENSAO</td>\n",
       "      <td>10.948.297,00</td>\n",
       "      <td>2024-09-07T00:00:00Z</td>\n",
       "    </tr>\n",
       "    <tr>\n",
       "      <th>4</th>\n",
       "      <td>001 - TESOURO-DOT.INICIAL E CRED.SUPLEMENTAR</td>\n",
       "      <td>31900326 - COMPLEMENTACAO DE PENSAO - 13º SALARIO</td>\n",
       "      <td>521.632,30</td>\n",
       "      <td>2024-09-07T00:00:00Z</td>\n",
       "    </tr>\n",
       "  </tbody>\n",
       "</table>\n",
       "</div>"
      ],
      "text/plain": [
       "                              Fonte de Recursos  \\\n",
       "0  001 - TESOURO-DOT.INICIAL E CRED.SUPLEMENTAR   \n",
       "1  001 - TESOURO-DOT.INICIAL E CRED.SUPLEMENTAR   \n",
       "2  001 - TESOURO-DOT.INICIAL E CRED.SUPLEMENTAR   \n",
       "3  001 - TESOURO-DOT.INICIAL E CRED.SUPLEMENTAR   \n",
       "4  001 - TESOURO-DOT.INICIAL E CRED.SUPLEMENTAR   \n",
       "\n",
       "                                                   Despesa  \\\n",
       "0       31900119 - ATRASADOS-OUTROS PODERES/MINIST.PUBLICO   \n",
       "1               31900124 - COMPLEMENTACAO DE APOSENTADORIA   \n",
       "2  31900125 - COMPLEMENTACAO DE APOSENTADORIA - 13ºSALARIO   \n",
       "3                      31900325 - COMPLEMENTACAO DE PENSAO   \n",
       "4        31900326 - COMPLEMENTACAO DE PENSAO - 13º SALARIO   \n",
       "\n",
       "                 Liquidado             dt_insert  \n",
       "0            79.760.504,67  2024-09-07T00:00:00Z  \n",
       "1         1.850.834.374,26  2024-09-07T00:00:00Z  \n",
       "2           124.536.202,87  2024-09-07T00:00:00Z  \n",
       "3            10.948.297,00  2024-09-07T00:00:00Z  \n",
       "4               521.632,30  2024-09-07T00:00:00Z  "
      ]
     },
     "execution_count": 16,
     "metadata": {},
     "output_type": "execute_result"
    }
   ],
   "source": [
    "df.head()"
   ]
  },
  {
   "cell_type": "markdown",
   "metadata": {},
   "source": [
    "## E agora?\n",
    "\n",
    "Aqui já temos o dado pronto para ir para a camada Raw.\n",
    "\n",
    "Podemos passar para os dados da tabela de Receitas.\n",
    "\n"
   ]
  },
  {
   "cell_type": "markdown",
   "metadata": {},
   "source": [
    "## Próximo passo: Tratar os dados Raw"
   ]
  },
  {
   "cell_type": "code",
   "execution_count": 17,
   "metadata": {},
   "outputs": [],
   "source": [
    "dataset_id = \"gdv_raw\"\n",
    "table_id = \"despesas_raw\"\n",
    "bq_client = BqClient(project=PROJECT)\n",
    "\n",
    "query = f\"\"\"\n",
    "        SELECT *\n",
    "        FROM `{PROJECT}.{dataset_id}.{table_id}`\n",
    "        \"\"\"\n",
    "        \n",
    "rows = bq_client.query(query)"
   ]
  },
  {
   "cell_type": "code",
   "execution_count": 25,
   "metadata": {},
   "outputs": [],
   "source": [
    "data_despesas = rows.to_dataframe()\n"
   ]
  },
  {
   "cell_type": "code",
   "execution_count": 31,
   "metadata": {},
   "outputs": [],
   "source": [
    "import polars as pl\n",
    "pl.Config(tbl_rows=100, tbl_cols=10, fmt_str_lengths=150, fmt_float=\"full\")\n",
    "\n",
    "data_despesas = pl.DataFrame(data_despesas)"
   ]
  },
  {
   "cell_type": "code",
   "execution_count": 40,
   "metadata": {},
   "outputs": [],
   "source": [
    "despesas = data_despesas.with_columns(\n",
    "    pl.col(\"Liquidado\").map_elements(lambda x: float(x.strip().replace(\".\", \"\").replace(\",\",\".\")), return_dtype=pl.Float64).alias(\"liquidado\"),\n",
    "    pl.col(\"Fonte de Recursos\").str.splitn(\" - \", 2).struct.field('field_0').alias(\"id_fonte_recurso\"),\n",
    "    pl.col(\"Fonte de Recursos\").str.splitn(\" - \", 2).struct.field('field_1').alias(\"nome_fonte_recurso\"),\n",
    "    \n",
    ").filter(\n",
    " ~pl.col(\"Despesa\").str.contains(\"TOTAL\") \n",
    ").select(\n",
    "    pl.col(\"liquidado\"),\n",
    "    pl.col(\"id_fonte_recurso\"),\n",
    "    pl.col(\"nome_fonte_recurso\")\n",
    ")"
   ]
  },
  {
   "cell_type": "code",
   "execution_count": 41,
   "metadata": {},
   "outputs": [
    {
     "data": {
      "text/html": [
       "<div><style>\n",
       ".dataframe > thead > tr,\n",
       ".dataframe > tbody > tr {\n",
       "  text-align: right;\n",
       "  white-space: pre-wrap;\n",
       "}\n",
       "</style>\n",
       "<small>shape: (5, 3)</small><table border=\"1\" class=\"dataframe\"><thead><tr><th>liquidado</th><th>id_fonte_recurso</th><th>nome_fonte_recurso</th></tr><tr><td>f64</td><td>str</td><td>str</td></tr></thead><tbody><tr><td>79760504.67</td><td>&quot;001&quot;</td><td>&quot;TESOURO-DOT.INICIAL E CRED.SUPLEMENTAR&quot;</td></tr><tr><td>1850834374.26</td><td>&quot;001&quot;</td><td>&quot;TESOURO-DOT.INICIAL E CRED.SUPLEMENTAR&quot;</td></tr><tr><td>124536202.87</td><td>&quot;001&quot;</td><td>&quot;TESOURO-DOT.INICIAL E CRED.SUPLEMENTAR&quot;</td></tr><tr><td>10948297</td><td>&quot;001&quot;</td><td>&quot;TESOURO-DOT.INICIAL E CRED.SUPLEMENTAR&quot;</td></tr><tr><td>521632.3</td><td>&quot;001&quot;</td><td>&quot;TESOURO-DOT.INICIAL E CRED.SUPLEMENTAR&quot;</td></tr></tbody></table></div>"
      ],
      "text/plain": [
       "shape: (5, 3)\n",
       "┌───────────────┬──────────────────┬────────────────────────────────────────┐\n",
       "│ liquidado     ┆ id_fonte_recurso ┆ nome_fonte_recurso                     │\n",
       "│ ---           ┆ ---              ┆ ---                                    │\n",
       "│ f64           ┆ str              ┆ str                                    │\n",
       "╞═══════════════╪══════════════════╪════════════════════════════════════════╡\n",
       "│ 79760504.67   ┆ 001              ┆ TESOURO-DOT.INICIAL E CRED.SUPLEMENTAR │\n",
       "│ 1850834374.26 ┆ 001              ┆ TESOURO-DOT.INICIAL E CRED.SUPLEMENTAR │\n",
       "│ 124536202.87  ┆ 001              ┆ TESOURO-DOT.INICIAL E CRED.SUPLEMENTAR │\n",
       "│ 10948297      ┆ 001              ┆ TESOURO-DOT.INICIAL E CRED.SUPLEMENTAR │\n",
       "│ 521632.3      ┆ 001              ┆ TESOURO-DOT.INICIAL E CRED.SUPLEMENTAR │\n",
       "└───────────────┴──────────────────┴────────────────────────────────────────┘"
      ]
     },
     "execution_count": 41,
     "metadata": {},
     "output_type": "execute_result"
    }
   ],
   "source": [
    "despesas.head()"
   ]
  },
  {
   "cell_type": "markdown",
   "metadata": {},
   "source": [
    "Developed by\n",
    "\n",
    "```shell\n",
    "             ___         __  __              \n",
    "            /   |  _____/ /_/ /_  __  _______\n",
    "           / /| | / ___/ __/ __ \\/ / / / ___/\n",
    "          / ___ |/ /  / /_/ / / / /_/ / /    \n",
    "         /_/  |_/_/   \\__/_/ /_/\\__,_/_/     \n",
    "```"
   ]
  }
 ],
 "metadata": {
  "kernelspec": {
   "display_name": "gringo",
   "language": "python",
   "name": "python3"
  },
  "language_info": {
   "codemirror_mode": {
    "name": "ipython",
    "version": 3
   },
   "file_extension": ".py",
   "mimetype": "text/x-python",
   "name": "python",
   "nbconvert_exporter": "python",
   "pygments_lexer": "ipython3",
   "version": "3.10.13"
  }
 },
 "nbformat": 4,
 "nbformat_minor": 2
}
