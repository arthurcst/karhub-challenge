{
 "cells": [
  {
   "cell_type": "markdown",
   "metadata": {},
   "source": [
    "# Análise exploratória\n",
    "\n",
    "## Entendendo os dados\n",
    "\n",
    "\n",
    "Aqui vamos dar uma olhada no conjunto de dados que temos, utilizando o polars.\n",
    "\n",
    "\n",
    "Disclaimers importantes:\n",
    "\n",
    "- Percebi que os dados de String não estão em UTF-8. Logo, no processo de E(T)L, a primeira coisa a ser feita é essa transformação."
   ]
  },
  {
   "cell_type": "markdown",
   "metadata": {},
   "source": [
    "## Dataset 1: Despesas"
   ]
  },
  {
   "cell_type": "code",
   "execution_count": 4,
   "metadata": {},
   "outputs": [
    {
     "data": {
      "text/plain": [
       "<polars.config.Config at 0x7f1c1c698af0>"
      ]
     },
     "execution_count": 4,
     "metadata": {},
     "output_type": "execute_result"
    }
   ],
   "source": [
    "import polars as pl\n",
    "import pandas as pd\n",
    "\n",
    "pl.Config(tbl_rows=100, tbl_cols=10, fmt_str_lengths=150, fmt_float=\"full\")\n"
   ]
  },
  {
   "cell_type": "code",
   "execution_count": 5,
   "metadata": {},
   "outputs": [],
   "source": [
    "data_despesas = pl.scan_csv('../data_engineer_test_v2/gdvDespesasExcel.csv', encoding='utf8-lossy')"
   ]
  },
  {
   "cell_type": "markdown",
   "metadata": {},
   "source": [
    "## Problema nº 1\n",
    "\n",
    "Aqui temos um encoding utf8-lossy, que significa que os caracteres não encontrados vão ser substituídos por uma `�`.\n",
    "\n",
    "sem o -lossy, não foi possível nem fazer a leitura.\n",
    "\n",
    "(Esse processo ocorreu antes da definição do Disclaimer 1)"
   ]
  },
  {
   "cell_type": "code",
   "execution_count": 6,
   "metadata": {},
   "outputs": [
    {
     "data": {
      "text/html": [
       "<div><style>\n",
       ".dataframe > thead > tr,\n",
       ".dataframe > tbody > tr {\n",
       "  text-align: right;\n",
       "  white-space: pre-wrap;\n",
       "}\n",
       "</style>\n",
       "<small>shape: (5, 1)</small><table border=\"1\" class=\"dataframe\"><thead><tr><th>Despesa</th></tr><tr><td>str</td></tr></thead><tbody><tr><td>&quot;31900125 - COMPLEMENTACAO DE APOSENTADORIA - 13�SALARIO&quot;</td></tr><tr><td>&quot;31900326 - COMPLEMENTACAO DE PENSAO - 13� SALARIO&quot;</td></tr><tr><td>&quot;31909227 - INATIVOS DE EXERC�CIOS ANTERIORES&quot;</td></tr><tr><td>&quot;31910843 - AUX�LIO-RECLUS�O (LC 1.012/07)&quot;</td></tr><tr><td>&quot;31919224 - DESPESAS DE PESSOAL DE EXERC�CIOS ANTERIORES&quot;</td></tr></tbody></table></div>"
      ],
      "text/plain": [
       "shape: (5, 1)\n",
       "┌─────────────────────────────────────────────────────────┐\n",
       "│ Despesa                                                 │\n",
       "│ ---                                                     │\n",
       "│ str                                                     │\n",
       "╞═════════════════════════════════════════════════════════╡\n",
       "│ 31900125 - COMPLEMENTACAO DE APOSENTADORIA - 13�SALARIO │\n",
       "│ 31900326 - COMPLEMENTACAO DE PENSAO - 13� SALARIO       │\n",
       "│ 31909227 - INATIVOS DE EXERC�CIOS ANTERIORES            │\n",
       "│ 31910843 - AUX�LIO-RECLUS�O (LC 1.012/07)               │\n",
       "│ 31919224 - DESPESAS DE PESSOAL DE EXERC�CIOS ANTERIORES │\n",
       "└─────────────────────────────────────────────────────────┘"
      ]
     },
     "execution_count": 6,
     "metadata": {},
     "output_type": "execute_result"
    }
   ],
   "source": [
    "data_despesas.select(\n",
    "    pl.col(\"Despesa\").filter(pl.col(\"Despesa\").str.contains(\"�\"))\n",
    ").fetch(n_rows=100)"
   ]
  },
  {
   "cell_type": "markdown",
   "metadata": {},
   "source": [
    "Notamos aqui que o UTF-8 não consegue lidar com caracteres especiais como ã, é, í, º, entre outros. Sabendo disso, bora testar uma outra técnica."
   ]
  },
  {
   "cell_type": "code",
   "execution_count": 7,
   "metadata": {},
   "outputs": [],
   "source": [
    "data_despesas = pl.read_csv('../data_engineer_test_v2/gdvDespesasExcel.csv',encoding=\"ISO-8859-1\")"
   ]
  },
  {
   "cell_type": "code",
   "execution_count": 8,
   "metadata": {},
   "outputs": [
    {
     "data": {
      "text/html": [
       "<div><style>\n",
       ".dataframe > thead > tr,\n",
       ".dataframe > tbody > tr {\n",
       "  text-align: right;\n",
       "  white-space: pre-wrap;\n",
       "}\n",
       "</style>\n",
       "<small>shape: (0, 1)</small><table border=\"1\" class=\"dataframe\"><thead><tr><th>Despesa</th></tr><tr><td>str</td></tr></thead><tbody></tbody></table></div>"
      ],
      "text/plain": [
       "shape: (0, 1)\n",
       "┌─────────┐\n",
       "│ Despesa │\n",
       "│ ---     │\n",
       "│ str     │\n",
       "╞═════════╡\n",
       "└─────────┘"
      ]
     },
     "execution_count": 8,
     "metadata": {},
     "output_type": "execute_result"
    }
   ],
   "source": [
    "data_despesas.select(\n",
    "    pl.col(\"Despesa\").filter(pl.col(\"Despesa\").str.contains(\"�\"))\n",
    ").head(5)"
   ]
  },
  {
   "cell_type": "markdown",
   "metadata": {},
   "source": [
    "Problema nº 1 resolvido. (O meu VSCode também não sabe lidar com esses caracteres, então eu tive que olhar pelo editor de texto do próprio Github)"
   ]
  },
  {
   "cell_type": "markdown",
   "metadata": {},
   "source": [
    "## Problema nº 2\n",
    "\n",
    "Agora vamos normalizar os dados de $$."
   ]
  },
  {
   "cell_type": "markdown",
   "metadata": {},
   "source": [
    "No nosso dataset, os dados seguem o formato brasileiro, utilizando `.` para separar casa de milhar e `,` pra separar decimal.\n",
    "\n",
    "Sabendo que isso não vai nos permitir transformar esse valor em Float, vamos deixar definido o tratamento para essa variável.\n",
    "\n",
    "Também lembrando de tirar os espaços em branco."
   ]
  },
  {
   "cell_type": "code",
   "execution_count": 9,
   "metadata": {},
   "outputs": [],
   "source": [
    "despesas = data_despesas.with_columns(\n",
    "    pl.col(\"Liquidado\").map_elements(lambda x: float(x.strip().replace(\".\", \"\").replace(\",\",\".\")), return_dtype=pl.Float64).alias(\"Total Liquidado\"),\n",
    "    pl.col(\"Fonte de Recursos\").str.splitn(\" - \", 2).struct.field('field_0').alias(\"ID Fonte Recurso\"),\n",
    "    pl.col(\"Fonte de Recursos\").str.splitn(\" - \", 2).struct.field('field_1').alias(\"Nome Fonte Recurso\"),\n",
    "    \n",
    ").select(\n",
    "    pl.col(\"Total Liquidado\"),\n",
    "    pl.col(\"ID Fonte Recurso\"),\n",
    "    pl.col(\"Nome Fonte Recurso\")\n",
    ")"
   ]
  },
  {
   "cell_type": "markdown",
   "metadata": {},
   "source": [
    "Explicação:\n",
    "\n",
    "Tentei fazer o calculo do Total Liquidado usando encadeamento de métodos, usando \n",
    "\n",
    "```python\n",
    "\n",
    "pl.col(\"Liquidado\").str.strip_char_start().str.replace(\".\", \"\").replace(\",\", \".\")\n",
    "```\n",
    "\n",
    "Mas essa abordagem não estava dando resultado. Por algum motivo, o Polars parava no primeiro método (`strip_char_start()`) Ou simplsmente comia um char da string. usando `map_elements()` não é tão performático, mas para nível de análise, tá valendo."
   ]
  },
  {
   "cell_type": "code",
   "execution_count": 10,
   "metadata": {},
   "outputs": [
    {
     "data": {
      "text/html": [
       "<div><style>\n",
       ".dataframe > thead > tr,\n",
       ".dataframe > tbody > tr {\n",
       "  text-align: right;\n",
       "  white-space: pre-wrap;\n",
       "}\n",
       "</style>\n",
       "<small>shape: (5, 3)</small><table border=\"1\" class=\"dataframe\"><thead><tr><th>Total Liquidado</th><th>ID Fonte Recurso</th><th>Nome Fonte Recurso</th></tr><tr><td>f64</td><td>str</td><td>str</td></tr></thead><tbody><tr><td>2545097.24</td><td>&quot;087&quot;</td><td>&quot;OP.CRED.CONTR.EXTERIOR-DOT.INIC.CR.SUP-INTRA&quot;</td></tr><tr><td>32829959.39</td><td>&quot;087&quot;</td><td>&quot;OP.CRED.CONTR.EXTERIOR-DOT.INIC.CR.SUP-INTRA&quot;</td></tr><tr><td>755209.26</td><td>&quot;087&quot;</td><td>&quot;OP.CRED.CONTR.EXTERIOR-DOT.INIC.CR.SUP-INTRA&quot;</td></tr><tr><td>2098500</td><td>&quot;087&quot;</td><td>&quot;OP.CRED.CONTR.EXTERIOR-DOT.INIC.CR.SUP-INTRA&quot;</td></tr><tr><td>257997692438.95</td><td>null</td><td>null</td></tr></tbody></table></div>"
      ],
      "text/plain": [
       "shape: (5, 3)\n",
       "┌─────────────────┬──────────────────┬──────────────────────────────────────────────┐\n",
       "│ Total Liquidado ┆ ID Fonte Recurso ┆ Nome Fonte Recurso                           │\n",
       "│ ---             ┆ ---              ┆ ---                                          │\n",
       "│ f64             ┆ str              ┆ str                                          │\n",
       "╞═════════════════╪══════════════════╪══════════════════════════════════════════════╡\n",
       "│ 2545097.24      ┆ 087              ┆ OP.CRED.CONTR.EXTERIOR-DOT.INIC.CR.SUP-INTRA │\n",
       "│ 32829959.39     ┆ 087              ┆ OP.CRED.CONTR.EXTERIOR-DOT.INIC.CR.SUP-INTRA │\n",
       "│ 755209.26       ┆ 087              ┆ OP.CRED.CONTR.EXTERIOR-DOT.INIC.CR.SUP-INTRA │\n",
       "│ 2098500         ┆ 087              ┆ OP.CRED.CONTR.EXTERIOR-DOT.INIC.CR.SUP-INTRA │\n",
       "│ 257997692438.95 ┆ null             ┆ null                                         │\n",
       "└─────────────────┴──────────────────┴──────────────────────────────────────────────┘"
      ]
     },
     "execution_count": 10,
     "metadata": {},
     "output_type": "execute_result"
    }
   ],
   "source": [
    "despesas.tail(5)"
   ]
  },
  {
   "cell_type": "markdown",
   "metadata": {},
   "source": [
    "OPA!\n",
    "\n",
    "Temos um malandro ali com null em ID e Nome. É a linha de total...\n",
    "\n",
    "Para excluí-la com polars é só colocar um filter no calculo do conjunto `despesas`, bora adicionar lá."
   ]
  },
  {
   "cell_type": "code",
   "execution_count": 11,
   "metadata": {},
   "outputs": [],
   "source": [
    "despesas = data_despesas.with_columns(\n",
    "    pl.col(\"Liquidado\").map_elements(lambda x: float(x.strip().replace(\".\", \"\").replace(\",\",\".\")), return_dtype=pl.Float64).alias(\"Total Liquidado\"),\n",
    "    pl.col(\"Fonte de Recursos\").str.splitn(\" - \", 2).struct.field('field_0').alias(\"ID Fonte Recurso\"),\n",
    "    pl.col(\"Fonte de Recursos\").str.splitn(\" - \", 2).struct.field('field_1').alias(\"Nome Fonte Recurso\"),\n",
    "    \n",
    ").filter(\n",
    " ~pl.col(\"Despesa\").str.contains(\"TOTAL\") \n",
    ").select(\n",
    "    pl.col(\"Total Liquidado\"),\n",
    "    pl.col(\"ID Fonte Recurso\"),\n",
    "    pl.col(\"Nome Fonte Recurso\")\n",
    ")"
   ]
  },
  {
   "cell_type": "code",
   "execution_count": 12,
   "metadata": {},
   "outputs": [
    {
     "data": {
      "text/html": [
       "<div><style>\n",
       ".dataframe > thead > tr,\n",
       ".dataframe > tbody > tr {\n",
       "  text-align: right;\n",
       "  white-space: pre-wrap;\n",
       "}\n",
       "</style>\n",
       "<small>shape: (5, 3)</small><table border=\"1\" class=\"dataframe\"><thead><tr><th>Total Liquidado</th><th>ID Fonte Recurso</th><th>Nome Fonte Recurso</th></tr><tr><td>f64</td><td>str</td><td>str</td></tr></thead><tbody><tr><td>8150057.66</td><td>&quot;087&quot;</td><td>&quot;OP.CRED.CONTR.EXTERIOR-DOT.INIC.CR.SUP-INTRA&quot;</td></tr><tr><td>2545097.24</td><td>&quot;087&quot;</td><td>&quot;OP.CRED.CONTR.EXTERIOR-DOT.INIC.CR.SUP-INTRA&quot;</td></tr><tr><td>32829959.39</td><td>&quot;087&quot;</td><td>&quot;OP.CRED.CONTR.EXTERIOR-DOT.INIC.CR.SUP-INTRA&quot;</td></tr><tr><td>755209.26</td><td>&quot;087&quot;</td><td>&quot;OP.CRED.CONTR.EXTERIOR-DOT.INIC.CR.SUP-INTRA&quot;</td></tr><tr><td>2098500</td><td>&quot;087&quot;</td><td>&quot;OP.CRED.CONTR.EXTERIOR-DOT.INIC.CR.SUP-INTRA&quot;</td></tr></tbody></table></div>"
      ],
      "text/plain": [
       "shape: (5, 3)\n",
       "┌─────────────────┬──────────────────┬──────────────────────────────────────────────┐\n",
       "│ Total Liquidado ┆ ID Fonte Recurso ┆ Nome Fonte Recurso                           │\n",
       "│ ---             ┆ ---              ┆ ---                                          │\n",
       "│ f64             ┆ str              ┆ str                                          │\n",
       "╞═════════════════╪══════════════════╪══════════════════════════════════════════════╡\n",
       "│ 8150057.66      ┆ 087              ┆ OP.CRED.CONTR.EXTERIOR-DOT.INIC.CR.SUP-INTRA │\n",
       "│ 2545097.24      ┆ 087              ┆ OP.CRED.CONTR.EXTERIOR-DOT.INIC.CR.SUP-INTRA │\n",
       "│ 32829959.39     ┆ 087              ┆ OP.CRED.CONTR.EXTERIOR-DOT.INIC.CR.SUP-INTRA │\n",
       "│ 755209.26       ┆ 087              ┆ OP.CRED.CONTR.EXTERIOR-DOT.INIC.CR.SUP-INTRA │\n",
       "│ 2098500         ┆ 087              ┆ OP.CRED.CONTR.EXTERIOR-DOT.INIC.CR.SUP-INTRA │\n",
       "└─────────────────┴──────────────────┴──────────────────────────────────────────────┘"
      ]
     },
     "execution_count": 12,
     "metadata": {},
     "output_type": "execute_result"
    }
   ],
   "source": [
    "despesas.tail(5)"
   ]
  },
  {
   "cell_type": "markdown",
   "metadata": {},
   "source": [
    "Resolvido!"
   ]
  },
  {
   "cell_type": "markdown",
   "metadata": {},
   "source": [
    "## Dataset 2: Receitas"
   ]
  },
  {
   "cell_type": "code",
   "execution_count": 14,
   "metadata": {},
   "outputs": [],
   "source": [
    "data_receitas = pl.read_csv('../data_engineer_test_v2/gdvReceitasExcel.csv',\n",
    "                            encoding=\"ISO-8859-1\")"
   ]
  },
  {
   "cell_type": "code",
   "execution_count": 15,
   "metadata": {},
   "outputs": [
    {
     "data": {
      "text/html": [
       "<div><style>\n",
       ".dataframe > thead > tr,\n",
       ".dataframe > tbody > tr {\n",
       "  text-align: right;\n",
       "  white-space: pre-wrap;\n",
       "}\n",
       "</style>\n",
       "<small>shape: (10, 3)</small><table border=\"1\" class=\"dataframe\"><thead><tr><th>Fonte de Recursos</th><th>Receita</th><th>Arrecadado</th></tr><tr><td>str</td><td>str</td><td>str</td></tr></thead><tbody><tr><td>&quot;001 - TESOURO-DOT.INICIAL E CRED.SUPLEMENTAR&quot;</td><td>&quot;11130111 - IRRF - IMP.RENDA PESSOA FISICA-PRINCIPAL&quot;</td><td>&quot;4267858335,83&quot;</td></tr><tr><td>&quot;001 - TESOURO-DOT.INICIAL E CRED.SUPLEMENTAR&quot;</td><td>&quot;11130311 - IRRF-IMP. RENDA RET. FTE-TRABALHO-PRINCIPAL&quot;</td><td>&quot;4323772997,93&quot;</td></tr><tr><td>&quot;001 - TESOURO-DOT.INICIAL E CRED.SUPLEMENTAR&quot;</td><td>&quot;11130341 - IRRF-OUTROS RENDIMENTOS-PRINCIPAL&quot;</td><td>&quot;123071158,14&quot;</td></tr><tr><td>&quot;001 - TESOURO-DOT.INICIAL E CRED.SUPLEMENTAR&quot;</td><td>&quot;11180121 - IPVA - IMP. PROPR. VEIC. AUTOM  - PRINCIPAL&quot;</td><td>&quot;8202995933,47&quot;</td></tr><tr><td>&quot;001 - TESOURO-DOT.INICIAL E CRED.SUPLEMENTAR&quot;</td><td>&quot;11180122 - IPVA - MULTAS E  JUROS&quot;</td><td>&quot;6927,39&quot;</td></tr><tr><td>&quot;001 - TESOURO-DOT.INICIAL E CRED.SUPLEMENTAR&quot;</td><td>&quot;11180123 - IPVA - DIVIDA ATIVA&quot;</td><td>&quot;235614546,72&quot;</td></tr><tr><td>&quot;001 - TESOURO-DOT.INICIAL E CRED.SUPLEMENTAR&quot;</td><td>&quot;11180124 - IPVA - MULTA E JUROS-DIVIDA ATIVA&quot;</td><td>&quot;401195,68&quot;</td></tr><tr><td>&quot;001 - TESOURO-DOT.INICIAL E CRED.SUPLEMENTAR&quot;</td><td>&quot;11180131 - ITCMD-IMP.TRA.CAUSA MORTIS/DOACAO-PRINCIPAL&quot;</td><td>&quot;3158253957,69&quot;</td></tr><tr><td>&quot;001 - TESOURO-DOT.INICIAL E CRED.SUPLEMENTAR&quot;</td><td>&quot;11180132 - ITCMD - MULTAS E JUROS&quot;</td><td>&quot;218862721,73&quot;</td></tr><tr><td>&quot;001 - TESOURO-DOT.INICIAL E CRED.SUPLEMENTAR&quot;</td><td>&quot;11180133 - ITCMD - DIVIDA ATIVA&quot;</td><td>&quot;8067099,83&quot;</td></tr></tbody></table></div>"
      ],
      "text/plain": [
       "shape: (10, 3)\n",
       "┌─────────────────────────────┬──────────────────────────────────────────────┬───────────────┐\n",
       "│ Fonte de Recursos           ┆ Receita                                      ┆ Arrecadado    │\n",
       "│ ---                         ┆ ---                                          ┆ ---           │\n",
       "│ str                         ┆ str                                          ┆ str           │\n",
       "╞═════════════════════════════╪══════════════════════════════════════════════╪═══════════════╡\n",
       "│ 001 - TESOURO-DOT.INICIAL E ┆ 11130111 - IRRF - IMP.RENDA PESSOA           ┆ 4267858335,83 │\n",
       "│ CRED.SUPLEMENTAR            ┆ FISICA-PRINCIPAL                             ┆               │\n",
       "│ 001 - TESOURO-DOT.INICIAL E ┆ 11130311 - IRRF-IMP. RENDA RET.              ┆ 4323772997,93 │\n",
       "│ CRED.SUPLEMENTAR            ┆ FTE-TRABALHO-PRINCIPAL                       ┆               │\n",
       "│ 001 - TESOURO-DOT.INICIAL E ┆ 11130341 - IRRF-OUTROS RENDIMENTOS-PRINCIPAL ┆ 123071158,14  │\n",
       "│ CRED.SUPLEMENTAR            ┆                                              ┆               │\n",
       "│ 001 - TESOURO-DOT.INICIAL E ┆ 11180121 - IPVA - IMP. PROPR. VEIC. AUTOM  - ┆ 8202995933,47 │\n",
       "│ CRED.SUPLEMENTAR            ┆ PRINCIPAL                                    ┆               │\n",
       "│ 001 - TESOURO-DOT.INICIAL E ┆ 11180122 - IPVA - MULTAS E  JUROS            ┆ 6927,39       │\n",
       "│ CRED.SUPLEMENTAR            ┆                                              ┆               │\n",
       "│ 001 - TESOURO-DOT.INICIAL E ┆ 11180123 - IPVA - DIVIDA ATIVA               ┆ 235614546,72  │\n",
       "│ CRED.SUPLEMENTAR            ┆                                              ┆               │\n",
       "│ 001 - TESOURO-DOT.INICIAL E ┆ 11180124 - IPVA - MULTA E JUROS-DIVIDA ATIVA ┆ 401195,68     │\n",
       "│ CRED.SUPLEMENTAR            ┆                                              ┆               │\n",
       "│ 001 - TESOURO-DOT.INICIAL E ┆ 11180131 - ITCMD-IMP.TRA.CAUSA               ┆ 3158253957,69 │\n",
       "│ CRED.SUPLEMENTAR            ┆ MORTIS/DOACAO-PRINCIPAL                      ┆               │\n",
       "│ 001 - TESOURO-DOT.INICIAL E ┆ 11180132 - ITCMD - MULTAS E JUROS            ┆ 218862721,73  │\n",
       "│ CRED.SUPLEMENTAR            ┆                                              ┆               │\n",
       "│ 001 - TESOURO-DOT.INICIAL E ┆ 11180133 - ITCMD - DIVIDA ATIVA              ┆ 8067099,83    │\n",
       "│ CRED.SUPLEMENTAR            ┆                                              ┆               │\n",
       "└─────────────────────────────┴──────────────────────────────────────────────┴───────────────┘"
      ]
     },
     "execution_count": 15,
     "metadata": {},
     "output_type": "execute_result"
    }
   ],
   "source": [
    "data_receitas.head(10)"
   ]
  },
  {
   "cell_type": "markdown",
   "metadata": {},
   "source": [
    "Os tratamentos serão bem parecidos com o que tivemos no caso 1. Temos uma String com o ID e o Nome no campo `Fonte de Recursos` e um valor parcialmente formatado no campo `Arrecadado`."
   ]
  },
  {
   "cell_type": "code",
   "execution_count": 16,
   "metadata": {},
   "outputs": [],
   "source": [
    "receitas = data_receitas.with_columns(\n",
    "    pl.col(\"Arrecadado\").map_elements(lambda x: float(x.strip().replace(\".\", \"\").replace(\",\",\".\")), return_dtype=pl.Float64).alias(\"Total Arrecadado\"),\n",
    "    pl.col(\"Fonte de Recursos\").str.splitn(\" - \", 2).struct.field('field_0').alias(\"ID Fonte Recurso\"),\n",
    "    pl.col(\"Fonte de Recursos\").str.splitn(\" - \", 2).struct.field('field_1').alias(\"Nome Fonte Recurso\"),\n",
    ").filter(\n",
    "    ~pl.col(\"Receita\").str.contains(\"TOTAL\")\n",
    ").select(\n",
    "    pl.col(\"ID Fonte Recurso\"),\n",
    "    pl.col(\"Nome Fonte Recurso\"),\n",
    "    pl.col(\"Total Arrecadado\"),\n",
    ")"
   ]
  },
  {
   "cell_type": "code",
   "execution_count": 17,
   "metadata": {},
   "outputs": [
    {
     "data": {
      "text/html": [
       "<div><style>\n",
       ".dataframe > thead > tr,\n",
       ".dataframe > tbody > tr {\n",
       "  text-align: right;\n",
       "  white-space: pre-wrap;\n",
       "}\n",
       "</style>\n",
       "<small>shape: (5, 3)</small><table border=\"1\" class=\"dataframe\"><thead><tr><th>ID Fonte Recurso</th><th>Nome Fonte Recurso</th><th>Total Arrecadado</th></tr><tr><td>str</td><td>str</td><td>f64</td></tr></thead><tbody><tr><td>&quot;085&quot;</td><td>&quot;RECURSOS VINCULADOS FEDERAIS-INTRA&quot;</td><td>62713271.63</td></tr><tr><td>&quot;085&quot;</td><td>&quot;RECURSOS VINCULADOS FEDERAIS-INTRA&quot;</td><td>12392104.67</td></tr><tr><td>&quot;086&quot;</td><td>&quot;OUTRAS FONTES DE RECURSOS-INTRA&quot;</td><td>137377128.78</td></tr><tr><td>&quot;087&quot;</td><td>&quot;OP.CRED.CONTR.EXTERIOR-DOT.INIC.CR.SUP-INTRA&quot;</td><td>46441531.83</td></tr><tr><td>&quot;099&quot;</td><td>&quot;EXTRA ORCAMENTARIA&quot;</td><td>0</td></tr></tbody></table></div>"
      ],
      "text/plain": [
       "shape: (5, 3)\n",
       "┌──────────────────┬──────────────────────────────────────────────┬──────────────────┐\n",
       "│ ID Fonte Recurso ┆ Nome Fonte Recurso                           ┆ Total Arrecadado │\n",
       "│ ---              ┆ ---                                          ┆ ---              │\n",
       "│ str              ┆ str                                          ┆ f64              │\n",
       "╞══════════════════╪══════════════════════════════════════════════╪══════════════════╡\n",
       "│ 085              ┆ RECURSOS VINCULADOS FEDERAIS-INTRA           ┆ 62713271.63      │\n",
       "│ 085              ┆ RECURSOS VINCULADOS FEDERAIS-INTRA           ┆ 12392104.67      │\n",
       "│ 086              ┆ OUTRAS FONTES DE RECURSOS-INTRA              ┆ 137377128.78     │\n",
       "│ 087              ┆ OP.CRED.CONTR.EXTERIOR-DOT.INIC.CR.SUP-INTRA ┆ 46441531.83      │\n",
       "│ 099              ┆ EXTRA ORCAMENTARIA                           ┆ 0                │\n",
       "└──────────────────┴──────────────────────────────────────────────┴──────────────────┘"
      ]
     },
     "execution_count": 17,
     "metadata": {},
     "output_type": "execute_result"
    }
   ],
   "source": [
    "receitas.tail()"
   ]
  },
  {
   "cell_type": "markdown",
   "metadata": {},
   "source": [
    "Agora temos que usar a API `awesomeapi.com.br/api-de-moedas` para transformar em real os dados da coluna Total Arrecadado (estão em USD com a cotação máxima do dolár do dia 22/06/2022)."
   ]
  },
  {
   "cell_type": "markdown",
   "metadata": {},
   "source": [
    "Developed by\n",
    "\n",
    "```shell\n",
    "             ___         __  __              \n",
    "            /   |  _____/ /_/ /_  __  _______\n",
    "           / /| | / ___/ __/ __ \\/ / / / ___/\n",
    "          / ___ |/ /  / /_/ / / / /_/ / /    \n",
    "         /_/  |_/_/   \\__/_/ /_/\\__,_/_/     \n",
    "```"
   ]
  }
 ],
 "metadata": {
  "kernelspec": {
   "display_name": "base",
   "language": "python",
   "name": "python3"
  },
  "language_info": {
   "codemirror_mode": {
    "name": "ipython",
    "version": 3
   },
   "file_extension": ".py",
   "mimetype": "text/x-python",
   "name": "python",
   "nbconvert_exporter": "python",
   "pygments_lexer": "ipython3",
   "version": "3.10.13"
  }
 },
 "nbformat": 4,
 "nbformat_minor": 2
}
